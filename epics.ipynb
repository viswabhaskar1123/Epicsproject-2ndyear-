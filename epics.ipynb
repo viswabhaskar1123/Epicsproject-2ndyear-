{
  "nbformat": 4,
  "nbformat_minor": 0,
  "metadata": {
    "colab": {
      "provenance": [],
      "gpuType": "T4",
      "authorship_tag": "ABX9TyMyUj8O4UbjrVEtp/Mqo958",
      "include_colab_link": true
    },
    "kernelspec": {
      "name": "python3",
      "display_name": "Python 3"
    },
    "language_info": {
      "name": "python"
    },
    "accelerator": "GPU",
    "widgets": {
      "application/vnd.jupyter.widget-state+json": {
        "e0ae40a2a21d43588f7bfa994df66ea7": {
          "model_module": "@jupyter-widgets/controls",
          "model_name": "HBoxModel",
          "model_module_version": "1.5.0",
          "state": {
            "_dom_classes": [],
            "_model_module": "@jupyter-widgets/controls",
            "_model_module_version": "1.5.0",
            "_model_name": "HBoxModel",
            "_view_count": null,
            "_view_module": "@jupyter-widgets/controls",
            "_view_module_version": "1.5.0",
            "_view_name": "HBoxView",
            "box_style": "",
            "children": [
              "IPY_MODEL_9da7fa740a114c14910864246ab5f11e",
              "IPY_MODEL_1ad62548c80846a1b8ab027709e6ff48",
              "IPY_MODEL_0f49e01e73e34a7dac8febde9bd2dee2"
            ],
            "layout": "IPY_MODEL_c738df54348f49c0a5c78eac9afc50fe"
          }
        },
        "9da7fa740a114c14910864246ab5f11e": {
          "model_module": "@jupyter-widgets/controls",
          "model_name": "HTMLModel",
          "model_module_version": "1.5.0",
          "state": {
            "_dom_classes": [],
            "_model_module": "@jupyter-widgets/controls",
            "_model_module_version": "1.5.0",
            "_model_name": "HTMLModel",
            "_view_count": null,
            "_view_module": "@jupyter-widgets/controls",
            "_view_module_version": "1.5.0",
            "_view_name": "HTMLView",
            "description": "",
            "description_tooltip": null,
            "layout": "IPY_MODEL_ca0aae19f8d643f7b39017326d5668e2",
            "placeholder": "​",
            "style": "IPY_MODEL_c1daca99dd8d43178498a65a3f8c5fb8",
            "value": "Map: 100%"
          }
        },
        "1ad62548c80846a1b8ab027709e6ff48": {
          "model_module": "@jupyter-widgets/controls",
          "model_name": "FloatProgressModel",
          "model_module_version": "1.5.0",
          "state": {
            "_dom_classes": [],
            "_model_module": "@jupyter-widgets/controls",
            "_model_module_version": "1.5.0",
            "_model_name": "FloatProgressModel",
            "_view_count": null,
            "_view_module": "@jupyter-widgets/controls",
            "_view_module_version": "1.5.0",
            "_view_name": "ProgressView",
            "bar_style": "success",
            "description": "",
            "description_tooltip": null,
            "layout": "IPY_MODEL_66565ef76166488bb58509ee0b616656",
            "max": 1821,
            "min": 0,
            "orientation": "horizontal",
            "style": "IPY_MODEL_a3931823649b49ecb210d5298d0b4751",
            "value": 1821
          }
        },
        "0f49e01e73e34a7dac8febde9bd2dee2": {
          "model_module": "@jupyter-widgets/controls",
          "model_name": "HTMLModel",
          "model_module_version": "1.5.0",
          "state": {
            "_dom_classes": [],
            "_model_module": "@jupyter-widgets/controls",
            "_model_module_version": "1.5.0",
            "_model_name": "HTMLModel",
            "_view_count": null,
            "_view_module": "@jupyter-widgets/controls",
            "_view_module_version": "1.5.0",
            "_view_name": "HTMLView",
            "description": "",
            "description_tooltip": null,
            "layout": "IPY_MODEL_9c3a636a459d4eeea6fea4ee545065e6",
            "placeholder": "​",
            "style": "IPY_MODEL_f1319bd005514837955da06c1be8f8eb",
            "value": " 1821/1821 [00:00&lt;00:00, 4775.07 examples/s]"
          }
        },
        "c738df54348f49c0a5c78eac9afc50fe": {
          "model_module": "@jupyter-widgets/base",
          "model_name": "LayoutModel",
          "model_module_version": "1.2.0",
          "state": {
            "_model_module": "@jupyter-widgets/base",
            "_model_module_version": "1.2.0",
            "_model_name": "LayoutModel",
            "_view_count": null,
            "_view_module": "@jupyter-widgets/base",
            "_view_module_version": "1.2.0",
            "_view_name": "LayoutView",
            "align_content": null,
            "align_items": null,
            "align_self": null,
            "border": null,
            "bottom": null,
            "display": null,
            "flex": null,
            "flex_flow": null,
            "grid_area": null,
            "grid_auto_columns": null,
            "grid_auto_flow": null,
            "grid_auto_rows": null,
            "grid_column": null,
            "grid_gap": null,
            "grid_row": null,
            "grid_template_areas": null,
            "grid_template_columns": null,
            "grid_template_rows": null,
            "height": null,
            "justify_content": null,
            "justify_items": null,
            "left": null,
            "margin": null,
            "max_height": null,
            "max_width": null,
            "min_height": null,
            "min_width": null,
            "object_fit": null,
            "object_position": null,
            "order": null,
            "overflow": null,
            "overflow_x": null,
            "overflow_y": null,
            "padding": null,
            "right": null,
            "top": null,
            "visibility": null,
            "width": null
          }
        },
        "ca0aae19f8d643f7b39017326d5668e2": {
          "model_module": "@jupyter-widgets/base",
          "model_name": "LayoutModel",
          "model_module_version": "1.2.0",
          "state": {
            "_model_module": "@jupyter-widgets/base",
            "_model_module_version": "1.2.0",
            "_model_name": "LayoutModel",
            "_view_count": null,
            "_view_module": "@jupyter-widgets/base",
            "_view_module_version": "1.2.0",
            "_view_name": "LayoutView",
            "align_content": null,
            "align_items": null,
            "align_self": null,
            "border": null,
            "bottom": null,
            "display": null,
            "flex": null,
            "flex_flow": null,
            "grid_area": null,
            "grid_auto_columns": null,
            "grid_auto_flow": null,
            "grid_auto_rows": null,
            "grid_column": null,
            "grid_gap": null,
            "grid_row": null,
            "grid_template_areas": null,
            "grid_template_columns": null,
            "grid_template_rows": null,
            "height": null,
            "justify_content": null,
            "justify_items": null,
            "left": null,
            "margin": null,
            "max_height": null,
            "max_width": null,
            "min_height": null,
            "min_width": null,
            "object_fit": null,
            "object_position": null,
            "order": null,
            "overflow": null,
            "overflow_x": null,
            "overflow_y": null,
            "padding": null,
            "right": null,
            "top": null,
            "visibility": null,
            "width": null
          }
        },
        "c1daca99dd8d43178498a65a3f8c5fb8": {
          "model_module": "@jupyter-widgets/controls",
          "model_name": "DescriptionStyleModel",
          "model_module_version": "1.5.0",
          "state": {
            "_model_module": "@jupyter-widgets/controls",
            "_model_module_version": "1.5.0",
            "_model_name": "DescriptionStyleModel",
            "_view_count": null,
            "_view_module": "@jupyter-widgets/base",
            "_view_module_version": "1.2.0",
            "_view_name": "StyleView",
            "description_width": ""
          }
        },
        "66565ef76166488bb58509ee0b616656": {
          "model_module": "@jupyter-widgets/base",
          "model_name": "LayoutModel",
          "model_module_version": "1.2.0",
          "state": {
            "_model_module": "@jupyter-widgets/base",
            "_model_module_version": "1.2.0",
            "_model_name": "LayoutModel",
            "_view_count": null,
            "_view_module": "@jupyter-widgets/base",
            "_view_module_version": "1.2.0",
            "_view_name": "LayoutView",
            "align_content": null,
            "align_items": null,
            "align_self": null,
            "border": null,
            "bottom": null,
            "display": null,
            "flex": null,
            "flex_flow": null,
            "grid_area": null,
            "grid_auto_columns": null,
            "grid_auto_flow": null,
            "grid_auto_rows": null,
            "grid_column": null,
            "grid_gap": null,
            "grid_row": null,
            "grid_template_areas": null,
            "grid_template_columns": null,
            "grid_template_rows": null,
            "height": null,
            "justify_content": null,
            "justify_items": null,
            "left": null,
            "margin": null,
            "max_height": null,
            "max_width": null,
            "min_height": null,
            "min_width": null,
            "object_fit": null,
            "object_position": null,
            "order": null,
            "overflow": null,
            "overflow_x": null,
            "overflow_y": null,
            "padding": null,
            "right": null,
            "top": null,
            "visibility": null,
            "width": null
          }
        },
        "a3931823649b49ecb210d5298d0b4751": {
          "model_module": "@jupyter-widgets/controls",
          "model_name": "ProgressStyleModel",
          "model_module_version": "1.5.0",
          "state": {
            "_model_module": "@jupyter-widgets/controls",
            "_model_module_version": "1.5.0",
            "_model_name": "ProgressStyleModel",
            "_view_count": null,
            "_view_module": "@jupyter-widgets/base",
            "_view_module_version": "1.2.0",
            "_view_name": "StyleView",
            "bar_color": null,
            "description_width": ""
          }
        },
        "9c3a636a459d4eeea6fea4ee545065e6": {
          "model_module": "@jupyter-widgets/base",
          "model_name": "LayoutModel",
          "model_module_version": "1.2.0",
          "state": {
            "_model_module": "@jupyter-widgets/base",
            "_model_module_version": "1.2.0",
            "_model_name": "LayoutModel",
            "_view_count": null,
            "_view_module": "@jupyter-widgets/base",
            "_view_module_version": "1.2.0",
            "_view_name": "LayoutView",
            "align_content": null,
            "align_items": null,
            "align_self": null,
            "border": null,
            "bottom": null,
            "display": null,
            "flex": null,
            "flex_flow": null,
            "grid_area": null,
            "grid_auto_columns": null,
            "grid_auto_flow": null,
            "grid_auto_rows": null,
            "grid_column": null,
            "grid_gap": null,
            "grid_row": null,
            "grid_template_areas": null,
            "grid_template_columns": null,
            "grid_template_rows": null,
            "height": null,
            "justify_content": null,
            "justify_items": null,
            "left": null,
            "margin": null,
            "max_height": null,
            "max_width": null,
            "min_height": null,
            "min_width": null,
            "object_fit": null,
            "object_position": null,
            "order": null,
            "overflow": null,
            "overflow_x": null,
            "overflow_y": null,
            "padding": null,
            "right": null,
            "top": null,
            "visibility": null,
            "width": null
          }
        },
        "f1319bd005514837955da06c1be8f8eb": {
          "model_module": "@jupyter-widgets/controls",
          "model_name": "DescriptionStyleModel",
          "model_module_version": "1.5.0",
          "state": {
            "_model_module": "@jupyter-widgets/controls",
            "_model_module_version": "1.5.0",
            "_model_name": "DescriptionStyleModel",
            "_view_count": null,
            "_view_module": "@jupyter-widgets/base",
            "_view_module_version": "1.2.0",
            "_view_name": "StyleView",
            "description_width": ""
          }
        }
      }
    }
  },
  "cells": [
    {
      "cell_type": "markdown",
      "metadata": {
        "id": "view-in-github",
        "colab_type": "text"
      },
      "source": [
        "<a href=\"https://colab.research.google.com/github/viswabhaskar1123/Epicsproject-2ndyear-/blob/main/epics.ipynb\" target=\"_parent\"><img src=\"https://colab.research.google.com/assets/colab-badge.svg\" alt=\"Open In Colab\"/></a>"
      ]
    },
    {
      "cell_type": "code",
      "execution_count": 1,
      "metadata": {
        "colab": {
          "base_uri": "https://localhost:8080/"
        },
        "id": "ih_1wadLRG1M",
        "outputId": "67a3bc70-8fc0-4cef-8b98-c36f4c26db0a"
      },
      "outputs": [
        {
          "output_type": "stream",
          "name": "stdout",
          "text": [
            "Requirement already satisfied: datasets in /usr/local/lib/python3.10/dist-packages (2.19.0)\n",
            "Requirement already satisfied: filelock in /usr/local/lib/python3.10/dist-packages (from datasets) (3.14.0)\n",
            "Requirement already satisfied: numpy>=1.17 in /usr/local/lib/python3.10/dist-packages (from datasets) (1.25.2)\n",
            "Requirement already satisfied: pyarrow>=12.0.0 in /usr/local/lib/python3.10/dist-packages (from datasets) (14.0.2)\n",
            "Requirement already satisfied: pyarrow-hotfix in /usr/local/lib/python3.10/dist-packages (from datasets) (0.6)\n",
            "Requirement already satisfied: dill<0.3.9,>=0.3.0 in /usr/local/lib/python3.10/dist-packages (from datasets) (0.3.8)\n",
            "Requirement already satisfied: pandas in /usr/local/lib/python3.10/dist-packages (from datasets) (2.0.3)\n",
            "Requirement already satisfied: requests>=2.19.0 in /usr/local/lib/python3.10/dist-packages (from datasets) (2.31.0)\n",
            "Requirement already satisfied: tqdm>=4.62.1 in /usr/local/lib/python3.10/dist-packages (from datasets) (4.66.2)\n",
            "Requirement already satisfied: xxhash in /usr/local/lib/python3.10/dist-packages (from datasets) (3.4.1)\n",
            "Requirement already satisfied: multiprocess in /usr/local/lib/python3.10/dist-packages (from datasets) (0.70.16)\n",
            "Requirement already satisfied: fsspec[http]<=2024.3.1,>=2023.1.0 in /usr/local/lib/python3.10/dist-packages (from datasets) (2023.6.0)\n",
            "Requirement already satisfied: aiohttp in /usr/local/lib/python3.10/dist-packages (from datasets) (3.9.5)\n",
            "Requirement already satisfied: huggingface-hub>=0.21.2 in /usr/local/lib/python3.10/dist-packages (from datasets) (0.23.0)\n",
            "Requirement already satisfied: packaging in /usr/local/lib/python3.10/dist-packages (from datasets) (24.0)\n",
            "Requirement already satisfied: pyyaml>=5.1 in /usr/local/lib/python3.10/dist-packages (from datasets) (6.0.1)\n",
            "Requirement already satisfied: aiosignal>=1.1.2 in /usr/local/lib/python3.10/dist-packages (from aiohttp->datasets) (1.3.1)\n",
            "Requirement already satisfied: attrs>=17.3.0 in /usr/local/lib/python3.10/dist-packages (from aiohttp->datasets) (23.2.0)\n",
            "Requirement already satisfied: frozenlist>=1.1.1 in /usr/local/lib/python3.10/dist-packages (from aiohttp->datasets) (1.4.1)\n",
            "Requirement already satisfied: multidict<7.0,>=4.5 in /usr/local/lib/python3.10/dist-packages (from aiohttp->datasets) (6.0.5)\n",
            "Requirement already satisfied: yarl<2.0,>=1.0 in /usr/local/lib/python3.10/dist-packages (from aiohttp->datasets) (1.9.4)\n",
            "Requirement already satisfied: async-timeout<5.0,>=4.0 in /usr/local/lib/python3.10/dist-packages (from aiohttp->datasets) (4.0.3)\n",
            "Requirement already satisfied: typing-extensions>=3.7.4.3 in /usr/local/lib/python3.10/dist-packages (from huggingface-hub>=0.21.2->datasets) (4.11.0)\n",
            "Requirement already satisfied: charset-normalizer<4,>=2 in /usr/local/lib/python3.10/dist-packages (from requests>=2.19.0->datasets) (3.3.2)\n",
            "Requirement already satisfied: idna<4,>=2.5 in /usr/local/lib/python3.10/dist-packages (from requests>=2.19.0->datasets) (3.7)\n",
            "Requirement already satisfied: urllib3<3,>=1.21.1 in /usr/local/lib/python3.10/dist-packages (from requests>=2.19.0->datasets) (2.0.7)\n",
            "Requirement already satisfied: certifi>=2017.4.17 in /usr/local/lib/python3.10/dist-packages (from requests>=2.19.0->datasets) (2024.2.2)\n",
            "Requirement already satisfied: python-dateutil>=2.8.2 in /usr/local/lib/python3.10/dist-packages (from pandas->datasets) (2.8.2)\n",
            "Requirement already satisfied: pytz>=2020.1 in /usr/local/lib/python3.10/dist-packages (from pandas->datasets) (2023.4)\n",
            "Requirement already satisfied: tzdata>=2022.1 in /usr/local/lib/python3.10/dist-packages (from pandas->datasets) (2024.1)\n",
            "Requirement already satisfied: six>=1.5 in /usr/local/lib/python3.10/dist-packages (from python-dateutil>=2.8.2->pandas->datasets) (1.16.0)\n"
          ]
        }
      ],
      "source": [
        "!pip install datasets"
      ]
    },
    {
      "cell_type": "code",
      "source": [
        "import torch\n",
        "import torch.nn as nn\n",
        "import numpy as np\n",
        "import matplotlib.pyplot as plt\n",
        "from transformers import AutoModel, AutoTokenizer\n",
        "from datasets import load_dataset"
      ],
      "metadata": {
        "id": "JN-WhU1FRQnK"
      },
      "execution_count": 2,
      "outputs": []
    },
    {
      "cell_type": "code",
      "source": [
        "# Load BERT model and tokenizer\n",
        "model_name = \"bert-base-uncased\"\n",
        "tokenizer = AutoTokenizer.from_pretrained(model_name)\n",
        "bert_model = AutoModel.from_pretrained(model_name)"
      ],
      "metadata": {
        "colab": {
          "base_uri": "https://localhost:8080/"
        },
        "id": "CT8cTyUPRSou",
        "outputId": "d65ee880-a640-47a1-a0d6-02548d028fbd"
      },
      "execution_count": 3,
      "outputs": [
        {
          "output_type": "stream",
          "name": "stderr",
          "text": [
            "/usr/local/lib/python3.10/dist-packages/huggingface_hub/file_download.py:1132: FutureWarning: `resume_download` is deprecated and will be removed in version 1.0.0. Downloads always resume when possible. If you want to force a new download, use `force_download=True`.\n",
            "  warnings.warn(\n",
            "/usr/local/lib/python3.10/dist-packages/huggingface_hub/utils/_token.py:89: UserWarning: \n",
            "The secret `HF_TOKEN` does not exist in your Colab secrets.\n",
            "To authenticate with the Hugging Face Hub, create a token in your settings tab (https://huggingface.co/settings/tokens), set it as secret in your Google Colab and restart your session.\n",
            "You will be able to reuse this secret in all of your notebooks.\n",
            "Please note that authentication is recommended but still optional to access public models or datasets.\n",
            "  warnings.warn(\n"
          ]
        }
      ]
    },
    {
      "cell_type": "code",
      "source": [
        "emotions = load_dataset('stanfordnlp/sst2')\n"
      ],
      "metadata": {
        "id": "DyxI7U9mRT2O"
      },
      "execution_count": 4,
      "outputs": []
    },
    {
      "cell_type": "code",
      "source": [
        "# Tokenize function for mapping\n",
        "def tokenize(batch):\n",
        "    return tokenizer(batch[\"sentence\"], padding=True, truncation=True)"
      ],
      "metadata": {
        "id": "JfrV99wtSzp1"
      },
      "execution_count": 5,
      "outputs": []
    },
    {
      "cell_type": "code",
      "source": [
        "emotions_encoded = emotions.map(tokenize, batched=True, batch_size=None)\n"
      ],
      "metadata": {
        "colab": {
          "base_uri": "https://localhost:8080/",
          "height": 49,
          "referenced_widgets": [
            "e0ae40a2a21d43588f7bfa994df66ea7",
            "9da7fa740a114c14910864246ab5f11e",
            "1ad62548c80846a1b8ab027709e6ff48",
            "0f49e01e73e34a7dac8febde9bd2dee2",
            "c738df54348f49c0a5c78eac9afc50fe",
            "ca0aae19f8d643f7b39017326d5668e2",
            "c1daca99dd8d43178498a65a3f8c5fb8",
            "66565ef76166488bb58509ee0b616656",
            "a3931823649b49ecb210d5298d0b4751",
            "9c3a636a459d4eeea6fea4ee545065e6",
            "f1319bd005514837955da06c1be8f8eb"
          ]
        },
        "id": "buYKIDgUS29p",
        "outputId": "e4322e0a-5415-4533-d404-d0df4e2584fc"
      },
      "execution_count": 6,
      "outputs": [
        {
          "output_type": "display_data",
          "data": {
            "text/plain": [
              "Map:   0%|          | 0/1821 [00:00<?, ? examples/s]"
            ],
            "application/vnd.jupyter.widget-view+json": {
              "version_major": 2,
              "version_minor": 0,
              "model_id": "e0ae40a2a21d43588f7bfa994df66ea7"
            }
          },
          "metadata": {}
        }
      ]
    },
    {
      "cell_type": "code",
      "source": [
        "emotions_encoded.set_format('torch', columns=['input_ids', 'attention_mask', 'token_type_ids', 'label'])\n"
      ],
      "metadata": {
        "id": "uXsgyzlmS4Ef"
      },
      "execution_count": 7,
      "outputs": []
    },
    {
      "cell_type": "code",
      "source": [
        "BATCH_SIZE = 64\n",
        "train_dataset = torch.utils.data.DataLoader(emotions_encoded['train'], batch_size=BATCH_SIZE, shuffle=True)\n",
        "eval_dataset = torch.utils.data.DataLoader(emotions_encoded['validation'], batch_size=BATCH_SIZE)"
      ],
      "metadata": {
        "id": "51DA1w3PS5Ur"
      },
      "execution_count": 8,
      "outputs": []
    },
    {
      "cell_type": "code",
      "source": [
        "class BERTForClassification(nn.Module):\n",
        "    def __init__(self, bert_model, num_classes):\n",
        "        super().__init__()\n",
        "        self.bert = bert_model\n",
        "        self.fc = nn.Linear(self.bert.config.hidden_size, num_classes)\n",
        "        self.attention_layer = nn.Linear(self.bert.config.hidden_size, 1)\n",
        "        self.sigmoid = nn.Sigmoid()\n",
        "\n",
        "    def forward(self, input_ids, attention_mask, token_type_ids):\n",
        "        outputs = self.bert(input_ids=input_ids, attention_mask=attention_mask, token_type_ids=token_type_ids)\n",
        "        pooled_output = outputs.pooler_output\n",
        "        logits = self.fc(pooled_output)\n",
        "\n",
        "        # Calculate attention weights\n",
        "        attention_scores = self.attention_layer(outputs.last_hidden_state).squeeze(-1)\n",
        "        attention_weights = self.sigmoid(attention_scores)\n",
        "\n",
        "        return logits, attention_weights"
      ],
      "metadata": {
        "id": "U_MJtMVdS6qx"
      },
      "execution_count": 9,
      "outputs": []
    },
    {
      "cell_type": "code",
      "source": [
        "# Initialize the classifier\n",
        "classifier = BERTForClassification(bert_model, num_classes=2)"
      ],
      "metadata": {
        "id": "PUDGtszJTCEh"
      },
      "execution_count": 10,
      "outputs": []
    },
    {
      "cell_type": "code",
      "source": [
        "# Check if CUDA is available and move the model and classifier to GPU\n",
        "device = torch.device('cuda' if torch.cuda.is_available() else 'cpu')\n",
        "classifier.to(device)"
      ],
      "metadata": {
        "colab": {
          "base_uri": "https://localhost:8080/"
        },
        "id": "bVpA5PvTTFKc",
        "outputId": "0d1d87cc-3e52-4a82-863d-42cd3f97bf46"
      },
      "execution_count": 11,
      "outputs": [
        {
          "output_type": "execute_result",
          "data": {
            "text/plain": [
              "BERTForClassification(\n",
              "  (bert): BertModel(\n",
              "    (embeddings): BertEmbeddings(\n",
              "      (word_embeddings): Embedding(30522, 768, padding_idx=0)\n",
              "      (position_embeddings): Embedding(512, 768)\n",
              "      (token_type_embeddings): Embedding(2, 768)\n",
              "      (LayerNorm): LayerNorm((768,), eps=1e-12, elementwise_affine=True)\n",
              "      (dropout): Dropout(p=0.1, inplace=False)\n",
              "    )\n",
              "    (encoder): BertEncoder(\n",
              "      (layer): ModuleList(\n",
              "        (0-11): 12 x BertLayer(\n",
              "          (attention): BertAttention(\n",
              "            (self): BertSelfAttention(\n",
              "              (query): Linear(in_features=768, out_features=768, bias=True)\n",
              "              (key): Linear(in_features=768, out_features=768, bias=True)\n",
              "              (value): Linear(in_features=768, out_features=768, bias=True)\n",
              "              (dropout): Dropout(p=0.1, inplace=False)\n",
              "            )\n",
              "            (output): BertSelfOutput(\n",
              "              (dense): Linear(in_features=768, out_features=768, bias=True)\n",
              "              (LayerNorm): LayerNorm((768,), eps=1e-12, elementwise_affine=True)\n",
              "              (dropout): Dropout(p=0.1, inplace=False)\n",
              "            )\n",
              "          )\n",
              "          (intermediate): BertIntermediate(\n",
              "            (dense): Linear(in_features=768, out_features=3072, bias=True)\n",
              "            (intermediate_act_fn): GELUActivation()\n",
              "          )\n",
              "          (output): BertOutput(\n",
              "            (dense): Linear(in_features=3072, out_features=768, bias=True)\n",
              "            (LayerNorm): LayerNorm((768,), eps=1e-12, elementwise_affine=True)\n",
              "            (dropout): Dropout(p=0.1, inplace=False)\n",
              "          )\n",
              "        )\n",
              "      )\n",
              "    )\n",
              "    (pooler): BertPooler(\n",
              "      (dense): Linear(in_features=768, out_features=768, bias=True)\n",
              "      (activation): Tanh()\n",
              "    )\n",
              "  )\n",
              "  (fc): Linear(in_features=768, out_features=2, bias=True)\n",
              "  (attention_layer): Linear(in_features=768, out_features=1, bias=True)\n",
              "  (sigmoid): Sigmoid()\n",
              ")"
            ]
          },
          "metadata": {},
          "execution_count": 11
        }
      ]
    },
    {
      "cell_type": "code",
      "source": [
        "\n",
        "# Define optimizer and loss function\n",
        "optimizer = torch.optim.Adam(classifier.parameters(), lr=1e-5)\n",
        "criterion = nn.CrossEntropyLoss()\n"
      ],
      "metadata": {
        "id": "psq4MZVlTNpg"
      },
      "execution_count": 12,
      "outputs": []
    },
    {
      "cell_type": "code",
      "source": [
        "attention_weight_changes=[]"
      ],
      "metadata": {
        "id": "zIuzP4-zcF-E"
      },
      "execution_count": 13,
      "outputs": []
    },
    {
      "cell_type": "code",
      "source": [
        "# Training loop\n",
        "num_epochs = 3\n",
        "for epoch in range(num_epochs):\n",
        "    classifier.train()\n",
        "    total_correct_train = 0\n",
        "    total_samples_train = 0\n",
        "\n",
        "    for batch in train_dataset:\n",
        "        batch = {k: v.to(device) for k, v in batch.items()}\n",
        "        # Move batch to the device\n",
        "        input_ids = batch[\"input_ids\"]\n",
        "        attention_mask = batch[\"attention_mask\"]\n",
        "        targets = batch[\"label\"]\n",
        "\n",
        "        # Forward pass\n",
        "        optimizer.zero_grad()\n",
        "        logits, attentions = classifier(input_ids, attention_mask, None)\n",
        "        loss = criterion(logits, targets)\n",
        "\n",
        "        # Backward pass and optimization\n",
        "        loss.backward()\n",
        "        optimizer.step()\n",
        "\n",
        "        # Collect attention weights\n",
        "        for attention in attentions:\n",
        "            attention_weight_changes.append(attention.detach().cpu().numpy())\n",
        "\n",
        "        # Calculate accuracy\n",
        "        _, predicted = torch.max(logits, 1)\n",
        "        total_samples_train += targets.size(0)\n",
        "        total_correct_train += (predicted == targets).sum().item()\n",
        "\n",
        "    # Calculate accuracy after each epoch\n",
        "    accuracy_train = total_correct_train / total_samples_train\n",
        "    print(f'Epoch [{epoch+1}/{num_epochs}], Train Accuracy: {accuracy_train:.4f}')\n"
      ],
      "metadata": {
        "colab": {
          "base_uri": "https://localhost:8080/"
        },
        "id": "6DQ0i0Kvb5yJ",
        "outputId": "3a73a633-a429-48ad-e7d6-d686756d8563"
      },
      "execution_count": 15,
      "outputs": [
        {
          "output_type": "stream",
          "name": "stdout",
          "text": [
            "Epoch [1/3], Train Accuracy: 0.9123\n",
            "Epoch [2/3], Train Accuracy: 0.9553\n",
            "Epoch [3/3], Train Accuracy: 0.9680\n"
          ]
        }
      ]
    },
    {
      "cell_type": "code",
      "source": [
        "# Evaluation\n",
        "classifier.eval()\n",
        "total_correct = 0\n",
        "total_samples = 0\n",
        "predicted_labels = []\n",
        "true_labels = []\n",
        "with torch.no_grad():\n",
        "    for batch in eval_dataset:\n",
        "        # Move batch to the device\n",
        "        batch = {k: v.to(device) for k, v in batch.items()}\n",
        "\n",
        "        # Unpack the batch\n",
        "        input_ids = batch['input_ids']\n",
        "        attention_mask = batch['attention_mask']\n",
        "        token_type_ids = batch['token_type_ids']\n",
        "        targets = batch['label']\n",
        "\n",
        "        # Forward pass\n",
        "        logits, _ = classifier(input_ids, attention_mask, token_type_ids)\n",
        "        _, predicted = torch.max(logits, 1)\n",
        "        total_samples += targets.size(0)\n",
        "        total_correct += (predicted == targets).sum().item()\n",
        "        # Collect predicted and true labels for F1 score\n",
        "        predicted_labels.extend(predicted.cpu().numpy())\n",
        "        true_labels.extend(targets.cpu().numpy())"
      ],
      "metadata": {
        "id": "nnH_yX6Ary8e"
      },
      "execution_count": 19,
      "outputs": []
    },
    {
      "cell_type": "code",
      "source": [
        "accuracy = total_correct / total_samples\n",
        "print(\"Test Accuracy:\", accuracy)"
      ],
      "metadata": {
        "colab": {
          "base_uri": "https://localhost:8080/"
        },
        "id": "rUK3hov8beUh",
        "outputId": "c477fef6-397e-4455-bdb2-834d97fe8745"
      },
      "execution_count": 17,
      "outputs": [
        {
          "output_type": "stream",
          "name": "stdout",
          "text": [
            "Test Accuracy: 0.9208715596330275\n"
          ]
        }
      ]
    },
    {
      "cell_type": "code",
      "source": [
        "from sklearn.metrics import f1_score\n",
        "f1 = f1_score(true_labels, predicted_labels, average='macro')\n",
        "print(\"F1 Score:\", f1)"
      ],
      "metadata": {
        "colab": {
          "base_uri": "https://localhost:8080/"
        },
        "id": "kdKFCJZObiTR",
        "outputId": "d53d1ff9-12ed-4d96-d8f7-6326c9a1c6bf"
      },
      "execution_count": 20,
      "outputs": [
        {
          "output_type": "stream",
          "name": "stdout",
          "text": [
            "F1 Score: 0.9206962408215071\n"
          ]
        }
      ]
    },
    {
      "cell_type": "code",
      "source": [
        "from sklearn.metrics import precision_score, recall_score\n",
        "precision = precision_score(true_labels, predicted_labels, average='macro')\n",
        "print(\"Precision:\", precision)"
      ],
      "metadata": {
        "colab": {
          "base_uri": "https://localhost:8080/"
        },
        "id": "cZGjxwAjrsQk",
        "outputId": "455f11fd-59e7-47ab-a39c-675af9bca2f8"
      },
      "execution_count": 21,
      "outputs": [
        {
          "output_type": "stream",
          "name": "stdout",
          "text": [
            "Precision: 0.9225981048320961\n"
          ]
        }
      ]
    },
    {
      "cell_type": "code",
      "source": [
        "recall = recall_score(true_labels, predicted_labels, average='macro')\n",
        "print(\"Recall:\", recall)"
      ],
      "metadata": {
        "colab": {
          "base_uri": "https://localhost:8080/"
        },
        "id": "BLCN9Wl-sHBe",
        "outputId": "59b9709e-596c-4af9-c87c-26129eaef3b6"
      },
      "execution_count": 22,
      "outputs": [
        {
          "output_type": "stream",
          "name": "stdout",
          "text": [
            "Recall: 0.9203186831691504\n"
          ]
        }
      ]
    },
    {
      "cell_type": "code",
      "source": [
        "print(\"Shape of attention_weight_changes1:\", attention_weight_changes1.shape)\n",
        "print(\"Content of attention_weight_changes1:\", attention_weight_changes1)\n"
      ],
      "metadata": {
        "colab": {
          "base_uri": "https://localhost:8080/"
        },
        "id": "_QlSYXZvsgKe",
        "outputId": "2f82693d-bbbd-48d1-db20-8ef07ef76171"
      },
      "execution_count": 25,
      "outputs": [
        {
          "output_type": "stream",
          "name": "stdout",
          "text": [
            "Shape of attention_weight_changes1: (13394238,)\n",
            "Content of attention_weight_changes1: [0.501361   0.59235966 0.42941067 ... 0.5415417  0.5202406  0.46646982]\n"
          ]
        }
      ]
    },
    {
      "cell_type": "code",
      "source": [
        "import numpy as np\n",
        "\n",
        "# Calculate the number of layers for each sample\n",
        "num_samples = len(attention_weight_changes1)\n",
        "num_layers_per_sample = num_samples // len(attention_weight_changes1)\n",
        "\n",
        "# Reshape attention_weight_changes1 for plotting\n",
        "attention_weight_changes_reshaped = np.reshape(attention_weight_changes1, (len(attention_weight_changes1), num_layers_per_sample))\n",
        "\n",
        "# Plot attention weight changes\n",
        "plt.figure(figsize=(12, 8))\n",
        "plt.imshow(attention_weight_changes_reshaped, cmap='hot', interpolation='nearest')\n",
        "plt.title('Mean Attention Weights Across Training')\n",
        "plt.xlabel('Layers in BERT Encoder')\n",
        "plt.ylabel('Samples')\n",
        "plt.colorbar()\n",
        "plt.show()\n"
      ],
      "metadata": {
        "colab": {
          "base_uri": "https://localhost:8080/",
          "height": 733
        },
        "id": "U2OLjmkdsR5g",
        "outputId": "7a54577a-0e8a-4978-ff97-ab158d05183c"
      },
      "execution_count": 28,
      "outputs": [
        {
          "output_type": "display_data",
          "data": {
            "text/plain": [
              "<Figure size 1200x800 with 2 Axes>"
            ],
            "image/png": "[encoded data removed]"
          },
          "metadata": {}
        }
      ]
    },
    {
      "cell_type": "code",
      "source": [
        "# Function to plot attention weights for a given input text\n",
        "def plot_attention_weights(input_text):\n",
        "    # Tokenize input text\n",
        "    input_ids = tokenizer.encode(input_text, return_tensors='pt', max_length=tokenizer.model_max_length, truncation=True)\n",
        "    input_ids = input_ids.to(device)\n",
        "\n",
        "    # Perform forward pass to get attention weights\n",
        "    classifier.eval()\n",
        "    with torch.no_grad():\n",
        "        _, attention_weights = classifier(input_ids, attention_mask=None, token_type_ids=None)\n",
        "\n",
        "    # Extract attention weights and input tokens\n",
        "    attention_weights = attention_weights.squeeze(0).cpu().numpy()\n",
        "    tokens = tokenizer.convert_ids_to_tokens(input_ids.squeeze().cpu().numpy())\n",
        "\n",
        "    # Plot attention weights\n",
        "    plt.figure(figsize=(10, 5))\n",
        "    plt.bar(range(len(tokens)), attention_weights, tick_label=tokens)\n",
        "    plt.xticks(rotation=90)\n",
        "    plt.xlabel('Tokens')\n",
        "    plt.ylabel('Attention Weights')\n",
        "    plt.title('Attention Weights for Input Text')\n",
        "    plt.show()"
      ],
      "metadata": {
        "id": "fsMDQo1wsyTD"
      },
      "execution_count": 29,
      "outputs": []
    },
    {
      "cell_type": "code",
      "source": [
        "# Example input text\n",
        "input_text = \"I loved the movie it was fantastic\"\n",
        "\n",
        "# Plot attention weights for the example input text\n",
        "plot_attention_weights(input_text)"
      ],
      "metadata": {
        "colab": {
          "base_uri": "https://localhost:8080/",
          "height": 534
        },
        "id": "IA-piYpTtF34",
        "outputId": "7784b093-60d0-4c2e-f5eb-81b6f7c0b6ec"
      },
      "execution_count": 32,
      "outputs": [
        {
          "output_type": "display_data",
          "data": {
            "text/plain": [
              "<Figure size 1000x500 with 1 Axes>"
            ],
            "image/png": "[encoded data removed]"
          },
          "metadata": {}
        }
      ]
    },
    {
      "cell_type": "code",
      "source": [
        "# Sample input text\n",
        "input_text = \"I loved the movie it was fantastic\"\n",
        "\n",
        "# Tokenize the input text\n",
        "encoded_input = tokenizer(input_text, return_tensors=\"pt\", padding=True, truncation=True)\n",
        "input_ids = encoded_input['input_ids'].to(device)\n",
        "attention_mask = encoded_input['attention_mask'].to(device)\n",
        "token_type_ids = encoded_input['token_type_ids'].to(device)"
      ],
      "metadata": {
        "id": "ekCo52iDtIKK"
      },
      "execution_count": 34,
      "outputs": []
    },
    {
      "cell_type": "code",
      "source": [
        "logits, attention_weights = classifier(input_ids, attention_mask, token_type_ids)\n",
        "probabilities = torch.softmax(logits, dim=1)\n",
        "decoded_tokens = tokenizer.convert_ids_to_tokens(input_ids.squeeze().tolist())\n"
      ],
      "metadata": {
        "id": "LFrcUL4VtWpg"
      },
      "execution_count": 35,
      "outputs": []
    },
    {
      "cell_type": "code",
      "source": [
        "# Print the output\n",
        "print(\"Input Text:\", input_text)\n",
        "print(\"Predicted Probabilities:\", probabilities)\n",
        "print(\"Attention Weights:\", attention_weights)\n",
        "print(\"Decoded Tokens:\", decoded_tokens)"
      ],
      "metadata": {
        "colab": {
          "base_uri": "https://localhost:8080/"
        },
        "id": "rIyczMEFthju",
        "outputId": "0dbb1697-5563-4f8b-89e2-3c5e90c7f1c2"
      },
      "execution_count": 37,
      "outputs": [
        {
          "output_type": "stream",
          "name": "stdout",
          "text": [
            "Input Text: I loved the movie it was fantastic\n",
            "Predicted Probabilities: tensor([[4.4644e-04, 9.9955e-01]], device='cuda:0', grad_fn=<SoftmaxBackward0>)\n",
            "Attention Weights: tensor([[0.6108, 0.5847, 0.6055, 0.6009, 0.5724, 0.5945, 0.6219, 0.6004, 0.5392]],\n",
            "       device='cuda:0', grad_fn=<SigmoidBackward0>)\n",
            "Decoded Tokens: ['[CLS]', 'i', 'loved', 'the', 'movie', 'it', 'was', 'fantastic', '[SEP]']\n"
          ]
        }
      ]
    },
    {
      "cell_type": "code",
      "source": [
        "\n",
        "import seaborn as sns\n",
        "\n",
        "# Convert attention weights to numpy array\n",
        "attention_weights_np = attention_weights.detach().cpu().numpy()\n",
        "\n",
        "# Plot heatmap\n",
        "plt.figure(figsize=(10, 5))\n",
        "sns.heatmap(attention_weights_np, cmap='viridis', annot=True, fmt=\".2f\", xticklabels=decoded_tokens, yticklabels=False)\n",
        "plt.title(\"Attention Heatmap\")\n",
        "plt.xlabel(\"Tokens\")\n",
        "plt.ylabel(\"Batch Samples\")\n",
        "plt.show()\n"
      ],
      "metadata": {
        "colab": {
          "base_uri": "https://localhost:8080/",
          "height": 487
        },
        "id": "j4-EBTiXtjOs",
        "outputId": "c03cfa98-1b9d-4d1f-f929-5bf1b9f272b3"
      },
      "execution_count": 38,
      "outputs": [
        {
          "output_type": "display_data",
          "data": {
            "text/plain": [
              "<Figure size 1000x500 with 2 Axes>"
            ],
            "image/png": "[encoded data removed]"
          },
          "metadata": {}
        }
      ]
    },
    {
      "cell_type": "code",
      "source": [],
      "metadata": {
        "id": "jB_ZHKkZtpJ_"
      },
      "execution_count": null,
      "outputs": []
    }
  ]
}